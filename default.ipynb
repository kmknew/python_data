{
 "cells": [
  {
   "cell_type": "markdown",
   "metadata": {},
   "source": [
    "# 탭 자동 완성\n",
    "\n",
    "셸에서 입력하는 동안에 <tab>을 누르면 네임스페이스에서 그 시점까지 입력한 내용과 맞아떨어지는 변수(객체,함수 등)를 자동으로 찾아준다."
   ]
  },
  {
   "cell_type": "code",
   "execution_count": 101,
   "metadata": {
    "collapsed": true
   },
   "outputs": [],
   "source": [
    "my_age =  26"
   ]
  },
  {
   "cell_type": "code",
   "execution_count": 102,
   "metadata": {
    "collapsed": false
   },
   "outputs": [
    {
     "data": {
      "text/plain": [
       "26"
      ]
     },
     "execution_count": 102,
     "metadata": {},
     "output_type": "execute_result"
    }
   ],
   "source": [
    "my_age #my까지 쓰고 탭을 치면 자동완성"
   ]
  },
  {
   "cell_type": "code",
   "execution_count": 103,
   "metadata": {
    "collapsed": true
   },
   "outputs": [],
   "source": [
    "age_mother = 51\n",
    "age_father = 50"
   ]
  },
  {
   "cell_type": "code",
   "execution_count": 63,
   "metadata": {
    "collapsed": false
   },
   "outputs": [
    {
     "data": {
      "text/plain": [
       "50"
      ]
     },
     "execution_count": 63,
     "metadata": {},
     "output_type": "execute_result"
    }
   ],
   "source": [
    "age_father#까지 쓰고 탭을 치면 네임스페이스가 열린다."
   ]
  },
  {
   "cell_type": "markdown",
   "metadata": {},
   "source": [
    "1.객체의 메서드나 속성 뒤에 마침표를 입력한 후에 자동완성기능을 활용할 수도 있다.\n",
    "\n",
    "*리스트 뒤에 마침표를 찍고 탭을 눌렀을 때 뜨는 함수들의 기능을 막간을 이용하여 알아보는 시간을 가져보자"
   ]
  },
  {
   "cell_type": "code",
   "execution_count": 105,
   "metadata": {
    "collapsed": false
   },
   "outputs": [],
   "source": [
    "b = [1,4,2,3,6,5]"
   ]
  },
  {
   "cell_type": "code",
   "execution_count": 106,
   "metadata": {
    "collapsed": false
   },
   "outputs": [
    {
     "ename": "TypeError",
     "evalue": "append() takes exactly one argument (2 given)",
     "output_type": "error",
     "traceback": [
      "\u001b[0;31m---------------------------------------------------------------------------\u001b[0m",
      "\u001b[0;31mTypeError\u001b[0m                                 Traceback (most recent call last)",
      "\u001b[0;32m<ipython-input-106-e090a1d671a8>\u001b[0m in \u001b[0;36m<module>\u001b[0;34m()\u001b[0m\n\u001b[0;32m----> 1\u001b[0;31m \u001b[0mb\u001b[0m\u001b[0;34m.\u001b[0m\u001b[0mappend\u001b[0m\u001b[0;34m(\u001b[0m\u001b[0;36m3\u001b[0m\u001b[0;34m,\u001b[0m\u001b[0;36m4\u001b[0m\u001b[0;34m)\u001b[0m \u001b[0;31m#객체의 메서드나 속성 뒤에 마침표를 입력한 후에 자동완성기능을 활용할 수도 있다.\u001b[0m\u001b[0;34m\u001b[0m\u001b[0m\n\u001b[0m",
      "\u001b[0;31mTypeError\u001b[0m: append() takes exactly one argument (2 given)"
     ]
    }
   ],
   "source": [
    "b.append(3,4) #객체의 메서드나 속성 뒤에 마침표를 입력한 후에 자동완성기능을 활용할 수도 있다."
   ]
  },
  {
   "cell_type": "code",
   "execution_count": 66,
   "metadata": {
    "collapsed": false
   },
   "outputs": [
    {
     "data": {
      "text/plain": [
       "[1, 4, 2, 3, 6, 5]"
      ]
     },
     "execution_count": 66,
     "metadata": {},
     "output_type": "execute_result"
    }
   ],
   "source": [
    "b #append함수를 이용하여 리스트에 값을 추가하였다."
   ]
  },
  {
   "cell_type": "code",
   "execution_count": 67,
   "metadata": {
    "collapsed": false
   },
   "outputs": [],
   "source": [
    "b.sort()"
   ]
  },
  {
   "cell_type": "code",
   "execution_count": 68,
   "metadata": {
    "collapsed": false
   },
   "outputs": [
    {
     "data": {
      "text/plain": [
       "[1, 2, 3, 4, 5, 6]"
      ]
     },
     "execution_count": 68,
     "metadata": {},
     "output_type": "execute_result"
    }
   ],
   "source": [
    "b #sort함수를 이용하여 리스트 값의 정렬을 순서대로 해주었다."
   ]
  },
  {
   "cell_type": "code",
   "execution_count": 69,
   "metadata": {
    "collapsed": false
   },
   "outputs": [],
   "source": [
    "c = ['b','a','c']"
   ]
  },
  {
   "cell_type": "code",
   "execution_count": 70,
   "metadata": {
    "collapsed": true
   },
   "outputs": [],
   "source": [
    "c.sort()"
   ]
  },
  {
   "cell_type": "code",
   "execution_count": 71,
   "metadata": {
    "collapsed": false
   },
   "outputs": [
    {
     "data": {
      "text/plain": [
       "['a', 'b', 'c']"
      ]
     },
     "execution_count": 71,
     "metadata": {},
     "output_type": "execute_result"
    }
   ],
   "source": [
    "c #문자도 마찬가지로 순서대로 정렬가능"
   ]
  },
  {
   "cell_type": "code",
   "execution_count": 72,
   "metadata": {
    "collapsed": false
   },
   "outputs": [],
   "source": [
    "a = [1, 2, 3]"
   ]
  },
  {
   "cell_type": "code",
   "execution_count": 73,
   "metadata": {
    "collapsed": true
   },
   "outputs": [],
   "source": [
    "a.insert(0, 4) # insert(a,b)는 a위치에 b를 삽입"
   ]
  },
  {
   "cell_type": "code",
   "execution_count": 74,
   "metadata": {
    "collapsed": false
   },
   "outputs": [
    {
     "data": {
      "text/plain": [
       "[4, 1, 2, 3]"
      ]
     },
     "execution_count": 74,
     "metadata": {},
     "output_type": "execute_result"
    }
   ],
   "source": [
    "a"
   ]
  },
  {
   "cell_type": "code",
   "execution_count": 75,
   "metadata": {
    "collapsed": false
   },
   "outputs": [
    {
     "data": {
      "text/plain": [
       "3"
      ]
     },
     "execution_count": 75,
     "metadata": {},
     "output_type": "execute_result"
    }
   ],
   "source": [
    "a.pop() #리스트의 맨마지막 값을 끄집어냄"
   ]
  },
  {
   "cell_type": "code",
   "execution_count": 76,
   "metadata": {
    "collapsed": false
   },
   "outputs": [
    {
     "data": {
      "text/plain": [
       "[4, 1, 2]"
      ]
     },
     "execution_count": 76,
     "metadata": {},
     "output_type": "execute_result"
    }
   ],
   "source": [
    "a"
   ]
  },
  {
   "cell_type": "code",
   "execution_count": 77,
   "metadata": {
    "collapsed": false
   },
   "outputs": [
    {
     "data": {
      "text/plain": [
       "4"
      ]
     },
     "execution_count": 77,
     "metadata": {},
     "output_type": "execute_result"
    }
   ],
   "source": [
    "a.pop(0) #위치값 지정하여 끄집어 낼수도 있음"
   ]
  },
  {
   "cell_type": "code",
   "execution_count": 78,
   "metadata": {
    "collapsed": false
   },
   "outputs": [
    {
     "data": {
      "text/plain": [
       "[1, 2]"
      ]
     },
     "execution_count": 78,
     "metadata": {},
     "output_type": "execute_result"
    }
   ],
   "source": [
    "a"
   ]
  },
  {
   "cell_type": "code",
   "execution_count": 79,
   "metadata": {
    "collapsed": false
   },
   "outputs": [
    {
     "ename": "ValueError",
     "evalue": "4 is not in list",
     "output_type": "error",
     "traceback": [
      "\u001b[0;31m---------------------------------------------------------------------------\u001b[0m",
      "\u001b[0;31mValueError\u001b[0m                                Traceback (most recent call last)",
      "\u001b[0;32m<ipython-input-79-d76892bb94e8>\u001b[0m in \u001b[0;36m<module>\u001b[0;34m()\u001b[0m\n\u001b[0;32m----> 1\u001b[0;31m \u001b[0ma\u001b[0m\u001b[0;34m.\u001b[0m\u001b[0mindex\u001b[0m\u001b[0;34m(\u001b[0m\u001b[0;36m4\u001b[0m\u001b[0;34m)\u001b[0m \u001b[0;31m#리스트에서 1의 위치값을 출력\u001b[0m\u001b[0;34m\u001b[0m\u001b[0m\n\u001b[0m",
      "\u001b[0;31mValueError\u001b[0m: 4 is not in list"
     ]
    }
   ],
   "source": [
    "a.index(4) #리스트에서 1의 위치값을 출력"
   ]
  },
  {
   "cell_type": "code",
   "execution_count": 80,
   "metadata": {
    "collapsed": true
   },
   "outputs": [],
   "source": [
    "a.extend([1,2,3,4]) #append와 다른점은 ()안에 리스트만 올수 있다는 점이다."
   ]
  },
  {
   "cell_type": "code",
   "execution_count": 81,
   "metadata": {
    "collapsed": false
   },
   "outputs": [
    {
     "data": {
      "text/plain": [
       "[1, 2, 1, 2, 3, 4]"
      ]
     },
     "execution_count": 81,
     "metadata": {},
     "output_type": "execute_result"
    }
   ],
   "source": [
    "a"
   ]
  },
  {
   "cell_type": "code",
   "execution_count": 82,
   "metadata": {
    "collapsed": false
   },
   "outputs": [
    {
     "data": {
      "text/plain": [
       "2"
      ]
     },
     "execution_count": 82,
     "metadata": {},
     "output_type": "execute_result"
    }
   ],
   "source": [
    "a.count(1) #리스트안에서 1의 개수를 센다."
   ]
  },
  {
   "cell_type": "markdown",
   "metadata": {},
   "source": [
    "2.모듈도 마찬가지이다."
   ]
  },
  {
   "cell_type": "code",
   "execution_count": 83,
   "metadata": {
    "collapsed": true
   },
   "outputs": [],
   "source": [
    "import datetime #날짜와 관련된 모듈을 임포트 한뒤에 탭을 눌러 자동완성기능을 써보자"
   ]
  },
  {
   "cell_type": "code",
   "execution_count": 28,
   "metadata": {
    "collapsed": false
   },
   "outputs": [
    {
     "data": {
      "text/plain": [
       "9999"
      ]
     },
     "execution_count": 28,
     "metadata": {},
     "output_type": "execute_result"
    }
   ],
   "source": [
    "datetime.MAXYEAR"
   ]
  },
  {
   "cell_type": "code",
   "execution_count": 29,
   "metadata": {
    "collapsed": false,
    "scrolled": true
   },
   "outputs": [
    {
     "data": {
      "text/plain": [
       "1"
      ]
     },
     "execution_count": 29,
     "metadata": {},
     "output_type": "execute_result"
    }
   ],
   "source": [
    "datetime.MINYEAR"
   ]
  },
  {
   "cell_type": "markdown",
   "metadata": {},
   "source": [
    "3.파일경로를 컴퓨터의 파일 시스템에서 찾아서 보여준다."
   ]
  },
  {
   "cell_type": "markdown",
   "metadata": {},
   "source": [
    "# 자기관찰"
   ]
  },
  {
   "cell_type": "code",
   "execution_count": 107,
   "metadata": {
    "collapsed": false
   },
   "outputs": [],
   "source": [
    "b?"
   ]
  },
  {
   "cell_type": "code",
   "execution_count": 85,
   "metadata": {
    "collapsed": true
   },
   "outputs": [],
   "source": [
    "?b"
   ]
  },
  {
   "cell_type": "code",
   "execution_count": 86,
   "metadata": {
    "collapsed": false
   },
   "outputs": [],
   "source": [
    "def add_numbers(a,b):\n",
    "    return a+b"
   ]
  },
  {
   "cell_type": "markdown",
   "metadata": {},
   "source": [
    "함수에 '?'를 붙였을 경우 함수의 정보를 보여준다.\n",
    "\n",
    "함수에 '??'를 붙였을 경우 함수 소스코드를 보여준다."
   ]
  },
  {
   "cell_type": "code",
   "execution_count": 108,
   "metadata": {
    "collapsed": true
   },
   "outputs": [],
   "source": [
    "add_numbers?"
   ]
  },
  {
   "cell_type": "code",
   "execution_count": 109,
   "metadata": {
    "collapsed": true
   },
   "outputs": [],
   "source": [
    "add_numbers??"
   ]
  },
  {
   "cell_type": "markdown",
   "metadata": {},
   "source": [
    "# %run 명령어\n",
    "\n",
    "%run 명령어를 사용하면 파이썬 프로그램 파일을 불러와 실행할 수 있다. 또 스트립트 파일에 정의 된 모든 변수는 실행된 후에도 계속 접근이 가능하다.\n",
    "\n",
    "만약 주피터 노트북의 네임스페이스에 미리 선언된 변수에 접근해야 한다면 %run -i를 쓴다."
   ]
  },
  {
   "cell_type": "markdown",
   "metadata": {},
   "source": [
    "# 이쯤에서 도대체 책에서 계속 나오는 네임스페이스가 뭘까? \n",
    "\n",
    "namespace 는 names 를 담을 수 있는 공간이라고 생각하면 된다.\n",
    "\n",
    "파이썬에서 module 은 파이썬 코드를 담고 있는 파일이다. 해당 파일에는 파이썬 클래스, 함수 또는 단순하게 names 의 리스트가 들어있을 수 있다.\n",
    "\n",
    "import sys\n",
    "sys.path\n",
    "\n",
    "sys 는 모듈 이름이고, path 는 sys 모듈의 namespace 에 담겨있는 name 이다. 따라서 path 에 접근을 하기 위해서는 모듈 이름인 sys 를 prefix 로 붙여서 sys 모듈의 namespace 에 접근한 후에 사용해야 한다.\n",
    "\n",
    "from pandas import Series, DataFrame"
   ]
  },
  {
   "cell_type": "markdown",
   "metadata": {},
   "source": [
    "# 키보드 단축키(short cut)"
   ]
  },
  {
   "cell_type": "code",
   "execution_count": 89,
   "metadata": {
    "collapsed": false
   },
   "outputs": [],
   "source": [
    "dic = {'단축키':['Ctrl + P 또는 위 화살표 키',\n",
    "             'Ctrl + N 또는 아라 화살표 키',\n",
    "             'Ctrl + R',\n",
    "             'Ctrl + Shift + V',\n",
    "             'Ctrl + C',\n",
    "             'Ctrl + A',\n",
    "             'Ctrl + E',\n",
    "             'Ctrl +K',\n",
    "             'Ctrl +U',\n",
    "             'Ctrl +F',\n",
    "             'Ctrl +B',\n",
    "             'Ctrl +L'],\n",
    "      '기능':['명령어 히스토리를 역순으로 검색하기',\n",
    "           '명령어 히스토리에서 최근 순으로 검색하기',\n",
    "       'readline 명령어 형식의 히스토리 검색(부분 매칭) 하기',\n",
    "       '클립보드에서 텍스트 붙여넣기',\n",
    "       '현재 실행 중인 코드 중단하기',\n",
    "            '커서를 줄의 처음으로 이동하기',\n",
    "            '커서를 줄의 끝으로 이동하기',\n",
    "            '커서가 놓인 곳부터 줄의 끝까지 텍스트 삭제하기',\n",
    "            '현재 입력된 모든 텍스트 지우기',\n",
    "            '커서를 앞으로 한 글자씩 이동하기',\n",
    "            '커서를 뒤로 한 글자씩 이동하기','화면 지우기']}"
   ]
  },
  {
   "cell_type": "code",
   "execution_count": 90,
   "metadata": {
    "collapsed": false
   },
   "outputs": [],
   "source": [
    "df = DataFrame(dic)"
   ]
  },
  {
   "cell_type": "code",
   "execution_count": 91,
   "metadata": {
    "collapsed": false
   },
   "outputs": [
    {
     "data": {
      "text/html": [
       "<div>\n",
       "<table border=\"1\" class=\"dataframe\">\n",
       "  <thead>\n",
       "    <tr style=\"text-align: right;\">\n",
       "      <th></th>\n",
       "      <th>단축키</th>\n",
       "      <th>기능</th>\n",
       "    </tr>\n",
       "  </thead>\n",
       "  <tbody>\n",
       "    <tr>\n",
       "      <th>0</th>\n",
       "      <td>Ctrl + P 또는 위 화살표 키</td>\n",
       "      <td>명령어 히스토리를 역순으로 검색하기</td>\n",
       "    </tr>\n",
       "    <tr>\n",
       "      <th>1</th>\n",
       "      <td>Ctrl + N 또는 아라 화살표 키</td>\n",
       "      <td>명령어 히스토리에서 최근 순으로 검색하기</td>\n",
       "    </tr>\n",
       "    <tr>\n",
       "      <th>2</th>\n",
       "      <td>Ctrl + R</td>\n",
       "      <td>readline 명령어 형식의 히스토리 검색(부분 매칭) 하기</td>\n",
       "    </tr>\n",
       "    <tr>\n",
       "      <th>3</th>\n",
       "      <td>Ctrl + Shift + V</td>\n",
       "      <td>클립보드에서 텍스트 붙여넣기</td>\n",
       "    </tr>\n",
       "    <tr>\n",
       "      <th>4</th>\n",
       "      <td>Ctrl + C</td>\n",
       "      <td>현재 실행 중인 코드 중단하기</td>\n",
       "    </tr>\n",
       "    <tr>\n",
       "      <th>5</th>\n",
       "      <td>Ctrl + A</td>\n",
       "      <td>커서를 줄의 처음으로 이동하기</td>\n",
       "    </tr>\n",
       "    <tr>\n",
       "      <th>6</th>\n",
       "      <td>Ctrl + E</td>\n",
       "      <td>커서를 줄의 끝으로 이동하기</td>\n",
       "    </tr>\n",
       "    <tr>\n",
       "      <th>7</th>\n",
       "      <td>Ctrl +K</td>\n",
       "      <td>커서가 놓인 곳부터 줄의 끝까지 텍스트 삭제하기</td>\n",
       "    </tr>\n",
       "    <tr>\n",
       "      <th>8</th>\n",
       "      <td>Ctrl +U</td>\n",
       "      <td>현재 입력된 모든 텍스트 지우기</td>\n",
       "    </tr>\n",
       "    <tr>\n",
       "      <th>9</th>\n",
       "      <td>Ctrl +F</td>\n",
       "      <td>커서를 앞으로 한 글자씩 이동하기</td>\n",
       "    </tr>\n",
       "    <tr>\n",
       "      <th>10</th>\n",
       "      <td>Ctrl +B</td>\n",
       "      <td>커서를 뒤로 한 글자씩 이동하기</td>\n",
       "    </tr>\n",
       "    <tr>\n",
       "      <th>11</th>\n",
       "      <td>Ctrl +L</td>\n",
       "      <td>화면 지우기</td>\n",
       "    </tr>\n",
       "  </tbody>\n",
       "</table>\n",
       "</div>"
      ],
      "text/plain": [
       "                     단축키                                  기능\n",
       "0    Ctrl + P 또는 위 화살표 키                 명령어 히스토리를 역순으로 검색하기\n",
       "1   Ctrl + N 또는 아라 화살표 키              명령어 히스토리에서 최근 순으로 검색하기\n",
       "2               Ctrl + R  readline 명령어 형식의 히스토리 검색(부분 매칭) 하기\n",
       "3       Ctrl + Shift + V                     클립보드에서 텍스트 붙여넣기\n",
       "4               Ctrl + C                    현재 실행 중인 코드 중단하기\n",
       "5               Ctrl + A                    커서를 줄의 처음으로 이동하기\n",
       "6               Ctrl + E                     커서를 줄의 끝으로 이동하기\n",
       "7                Ctrl +K          커서가 놓인 곳부터 줄의 끝까지 텍스트 삭제하기\n",
       "8                Ctrl +U                   현재 입력된 모든 텍스트 지우기\n",
       "9                Ctrl +F                  커서를 앞으로 한 글자씩 이동하기\n",
       "10               Ctrl +B                   커서를 뒤로 한 글자씩 이동하기\n",
       "11               Ctrl +L                              화면 지우기"
      ]
     },
     "execution_count": 91,
     "metadata": {},
     "output_type": "execute_result"
    }
   ],
   "source": [
    "df[['단축키','기능']]"
   ]
  },
  {
   "cell_type": "markdown",
   "metadata": {},
   "source": [
    "# 매직~매직명령어"
   ]
  },
  {
   "cell_type": "code",
   "execution_count": 92,
   "metadata": {
    "collapsed": true
   },
   "outputs": [],
   "source": [
    "a = np.random.randn(100,100)"
   ]
  },
  {
   "cell_type": "code",
   "execution_count": 93,
   "metadata": {
    "collapsed": false
   },
   "outputs": [
    {
     "name": "stdout",
     "output_type": "stream",
     "text": [
      "The slowest run took 28.22 times longer than the fastest. This could mean that an intermediate result is being cached \n",
      "10000 loops, best of 3: 69.3 µs per loop\n"
     ]
    }
   ],
   "source": [
    "%timeit np.dot(a, a) #%timeit 매직함수는 해당 소스코드가 실행되는 시간을 측정하고 싶을때 쓴다."
   ]
  },
  {
   "cell_type": "code",
   "execution_count": 94,
   "metadata": {
    "collapsed": true
   },
   "outputs": [],
   "source": [
    "%timeit?"
   ]
  },
  {
   "cell_type": "code",
   "execution_count": 95,
   "metadata": {
    "collapsed": false
   },
   "outputs": [
    {
     "name": "stdout",
     "output_type": "stream",
     "text": [
      "\n",
      "Automagic is OFF, % prefix IS needed for line magics.\n"
     ]
    }
   ],
   "source": [
    "%automagic #매직함수와 같은 이름의 변수가 선언되지 않았다면 기본적으로 %기호 없이도 쓸수 있으며 이 기능은 오토매직 함수를 통해 켜고 끌수있다."
   ]
  },
  {
   "cell_type": "code",
   "execution_count": 96,
   "metadata": {
    "collapsed": false
   },
   "outputs": [
    {
     "name": "stdout",
     "output_type": "stream",
     "text": [
      "\n",
      "Automagic is ON, % prefix IS NOT needed for line magics.\n"
     ]
    }
   ],
   "source": [
    "%automagic"
   ]
  },
  {
   "cell_type": "code",
   "execution_count": 97,
   "metadata": {
    "collapsed": false
   },
   "outputs": [
    {
     "name": "stdout",
     "output_type": "stream",
     "text": [
      "10000 loops, best of 3: 69.4 µs per loop\n"
     ]
    }
   ],
   "source": [
    "timeit np.dot(a, a)"
   ]
  },
  {
   "cell_type": "code",
   "execution_count": 98,
   "metadata": {
    "collapsed": true
   },
   "outputs": [],
   "source": [
    "%magic #모든 매직함수에 대한 상세도움말 출력"
   ]
  },
  {
   "cell_type": "code",
   "execution_count": 45,
   "metadata": {
    "collapsed": false
   },
   "outputs": [],
   "source": [
    "#%debug #최근 예외 트레이스백 하단에서 대화형 디버거로 진입"
   ]
  },
  {
   "cell_type": "markdown",
   "metadata": {},
   "source": [
    "# Matplolib\n",
    "\n",
    "matplolib을 쓸때 "
   ]
  },
  {
   "cell_type": "code",
   "execution_count": 4,
   "metadata": {
    "collapsed": false
   },
   "outputs": [],
   "source": [
    "%matplotlib inline\n"
   ]
  },
  {
   "cell_type": "markdown",
   "metadata": {},
   "source": [
    "# 그냥 한번\n",
    "\n",
    "%%html\n",
    "\n",
    "%%javascript"
   ]
  },
  {
   "cell_type": "code",
   "execution_count": 5,
   "metadata": {
    "collapsed": false
   },
   "outputs": [
    {
     "data": {
      "text/html": [
       "\n",
       "<style>\n",
       ".hello-world{\n",
       "    border: 1px solid black; \n",
       "    width: 300px; \n",
       "    height: 50px; \n",
       "    font-size: 2em; \n",
       "    padding: 0.3em;\n",
       "}\n",
       "</style>\n",
       "\n",
       "<div class='hello-world'>\n",
       "Hello ,html magic!\n",
       "</div>"
      ],
      "text/plain": [
       "<IPython.core.display.HTML object>"
      ]
     },
     "metadata": {},
     "output_type": "display_data"
    }
   ],
   "source": [
    "%%html\n",
    "\n",
    "<style>\n",
    ".hello-world{\n",
    "    border: 1px solid black; \n",
    "    width: 300px; \n",
    "    height: 50px; \n",
    "    font-size: 2em; \n",
    "    padding: 0.3em;\n",
    "}\n",
    "</style>\n",
    "\n",
    "<div class='hello-world'>\n",
    "Hello ,html magic!\n",
    "</div>"
   ]
  }
 ],
 "metadata": {
  "kernelspec": {
   "display_name": "Python 3",
   "language": "python",
   "name": "python3"
  },
  "language_info": {
   "codemirror_mode": {
    "name": "ipython",
    "version": 3
   },
   "file_extension": ".py",
   "mimetype": "text/x-python",
   "name": "python",
   "nbconvert_exporter": "python",
   "pygments_lexer": "ipython3",
   "version": "3.5.0"
  }
 },
 "nbformat": 4,
 "nbformat_minor": 0
}
